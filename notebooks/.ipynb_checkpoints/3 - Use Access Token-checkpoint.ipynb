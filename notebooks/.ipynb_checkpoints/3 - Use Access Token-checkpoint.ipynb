{
 "cells": [
  {
   "cell_type": "code",
   "execution_count": 1,
   "metadata": {},
   "outputs": [
    {
     "name": "stdout",
     "output_type": "stream",
     "text": [
      "Requirement already satisfied: requests in /home/douglas/.local/share/virtualenvs/spotify-api-TIRYvEc0/lib/python3.7/site-packages (2.23.0)\r\n",
      "Requirement already satisfied: certifi>=2017.4.17 in /home/douglas/.local/share/virtualenvs/spotify-api-TIRYvEc0/lib/python3.7/site-packages (from requests) (2020.4.5.1)\r\n",
      "Requirement already satisfied: idna<3,>=2.5 in /home/douglas/.local/share/virtualenvs/spotify-api-TIRYvEc0/lib/python3.7/site-packages (from requests) (2.9)\r\n",
      "Requirement already satisfied: urllib3!=1.25.0,!=1.25.1,<1.26,>=1.21.1 in /home/douglas/.local/share/virtualenvs/spotify-api-TIRYvEc0/lib/python3.7/site-packages (from requests) (1.25.9)\r\n",
      "Requirement already satisfied: chardet<4,>=3.0.2 in /home/douglas/.local/share/virtualenvs/spotify-api-TIRYvEc0/lib/python3.7/site-packages (from requests) (3.0.4)\r\n"
     ]
    }
   ],
   "source": [
    "!pip install requests"
   ]
  },
  {
   "cell_type": "code",
   "execution_count": 2,
   "metadata": {},
   "outputs": [],
   "source": [
    "import base64"
   ]
  },
  {
   "cell_type": "code",
   "execution_count": 8,
   "metadata": {},
   "outputs": [],
   "source": [
    "import requests\n",
    "import datetime\n",
    "from urllib.parse import urlencode"
   ]
  },
  {
   "cell_type": "code",
   "execution_count": 4,
   "metadata": {},
   "outputs": [],
   "source": [
    "client_id = '384b551d70e746e58c198c49749bec9e'\n",
    "client_secret = 'ad998aa695a6486184a94fd9569472cc'"
   ]
  },
  {
   "cell_type": "code",
   "execution_count": 5,
   "metadata": {},
   "outputs": [],
   "source": [
    "class SpotifyAPI(object):\n",
    "    access_token = None\n",
    "    access_token_expires = datetime.datetime.now()\n",
    "    access_token_did_expire = True\n",
    "    client_id = None\n",
    "    client_secret = None\n",
    "    token_url = 'https://accounts.spotify.com/api/token'\n",
    "    \n",
    "    def __init__(self, client_id, client_secret, *args, **kwargs):\n",
    "        super().__init__(*args, **kwargs)\n",
    "        self.client_id = client_id\n",
    "        self.client_secret = client_secret\n",
    "        \n",
    "    def get_client_credentials(self):\n",
    "        \"\"\"\n",
    "            Returns a base64 encoded string \n",
    "        \"\"\"\n",
    "        client_id = self.client_id\n",
    "        client_secret = self.client_secret\n",
    "        client_creds = f'{client_id}:{client_secret}'\n",
    "             \n",
    "        if client_id == None or client_secret == None:\n",
    "            raise Exception(\"You must set client_id and client_secret\")\n",
    "            \n",
    "        client_creds_b64 = base64.b64encode(client_creds.encode())    \n",
    "        return client_creds_b64.decode()\n",
    "        \n",
    "    def get_token_headers(self):\n",
    "        client_creds_b64 = self.get_client_credentials()\n",
    "        return {\n",
    "            'Authorization': f'Basic {client_creds_b64}'\n",
    "        }\n",
    "    \n",
    "    def get_token_data(self):\n",
    "        return {\n",
    "            'grant_type': 'client_credentials'\n",
    "\n",
    "        }\n",
    "        \n",
    "    def perform_auth(self):\n",
    "        token_url = self.token_url\n",
    "        token_data = self.get_token_data()\n",
    "        token_headers = self.get_token_headers()\n",
    "        r = requests.post(token_url, data=token_data, headers=token_headers)\n",
    "\n",
    "        if r.status_code not in range(200, 299):\n",
    "            return False\n",
    "        \n",
    "        data = r.json()\n",
    "        now = datetime.datetime.now()\n",
    "        access_token = data['access_token']\n",
    "        expires_in = data['expires_in'] # seconds\n",
    "        expires = now + datetime.timedelta(seconds=expires_in)\n",
    "        self.access_token = access_token\n",
    "        self.access_token_expires = expires\n",
    "        self.access_token_did_expire = expires < now\n",
    "        return True"
   ]
  },
  {
   "cell_type": "code",
   "execution_count": 6,
   "metadata": {},
   "outputs": [
    {
     "data": {
      "text/plain": [
       "True"
      ]
     },
     "execution_count": 6,
     "metadata": {},
     "output_type": "execute_result"
    }
   ],
   "source": [
    "spotify = SpotifyAPI(client_id, client_secret)\n",
    "spotify.perform_auth()"
   ]
  },
  {
   "cell_type": "code",
   "execution_count": 7,
   "metadata": {},
   "outputs": [],
   "source": [
    "access_token = spotify.access_token"
   ]
  },
  {
   "cell_type": "code",
   "execution_count": 14,
   "metadata": {},
   "outputs": [],
   "source": [
    "headers = {\n",
    "    \"Authorization\": f\"Bearer {access_token}\"\n",
    "}\n",
    "endpoint = \"https://api.spotify.com/v1/search\"\n",
    "data = urlencode({\"q\": \"Time\", \"type\": \"track\"})\n",
    "lookup_url = f\"{endpoint}?{data}\"\n",
    "r = requests.get(lookup_url, headers=headers)"
   ]
  },
  {
   "cell_type": "code",
   "execution_count": null,
   "metadata": {},
   "outputs": [],
   "source": []
  }
 ],
 "metadata": {
  "kernelspec": {
   "display_name": "Python 3",
   "language": "python",
   "name": "python3"
  },
  "language_info": {
   "codemirror_mode": {
    "name": "ipython",
    "version": 3
   },
   "file_extension": ".py",
   "mimetype": "text/x-python",
   "name": "python",
   "nbconvert_exporter": "python",
   "pygments_lexer": "ipython3",
   "version": "3.7.5"
  }
 },
 "nbformat": 4,
 "nbformat_minor": 4
}
